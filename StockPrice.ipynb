{
 "cells": [
  {
   "cell_type": "markdown",
   "id": "641c303d",
   "metadata": {},
   "source": [
    "<font size=\"+3\"><strong>Google Stock Volatility Forecasting</strong></font>"
   ]
  },
  {
   "cell_type": "code",
   "execution_count": 73,
   "id": "ce075532",
   "metadata": {},
   "outputs": [],
   "source": [
    "# Install libraries and their dependencies\n",
    "#!pip install arch\n",
    "#!pip install pydantic\n",
    "#pip install pydantic[dotenv]\n",
    "#pip install fastapi\n",
    "#!pip install pydantic_settings"
   ]
  },
  {
   "cell_type": "code",
   "execution_count": 1,
   "id": "1e61c4bc",
   "metadata": {},
   "outputs": [],
   "source": [
    "%load_ext autoreload\n",
    "%autoreload 2\n",
    "from arch.univariate.base import ARCHModelResult"
   ]
  },
  {
   "cell_type": "code",
   "execution_count": 2,
   "id": "b7165d93",
   "metadata": {},
   "outputs": [],
   "source": [
    "# Import libraries here\n",
    "import pandas as pd\n",
    "import sqlite3\n",
    "import numpy as np\n",
    "from arch import arch_model\n",
    "import matplotlib.pyplot as plt\n",
    "import requests\n",
    "from statsmodels.graphics.tsaplots import plot_acf, plot_pacf\n",
    "\n",
    "# import libraries we created\n",
    "from data import SQLRepository, AlphaVantageAPI\n",
    "from model import GarchModel\n",
    "from config import settings"
   ]
  },
  {
   "cell_type": "code",
   "execution_count": 3,
   "id": "c4af9c54",
   "metadata": {},
   "outputs": [
    {
     "name": "stdout",
     "output_type": "stream",
     "text": [
      "url type: <class 'str'>\n"
     ]
    },
    {
     "data": {
      "text/plain": [
       "'https://learn-api.wqu.edu/1/data-services/alpha-vantage/query?function=TIME_SERIES_DAILY&symbol=GOOGL&outputsize=full&datatype=json&apikey=0060eabd6569c8a0590bd77bb3f9634'"
      ]
     },
     "execution_count": 3,
     "metadata": {},
     "output_type": "execute_result"
    }
   ],
   "source": [
    "# get url for requests manually without our predefined AlphavantageAPI module\n",
    "ticker = 'GOOGL'\n",
    "output_size = 'full'\n",
    "data_type = 'json'\n",
    "\n",
    "url = (\n",
    "    \"https://learn-api.wqu.edu/1/data-services/alpha-vantage/query?\"\n",
    "    \"function=TIME_SERIES_DAILY&\"\n",
    "    f\"symbol={ticker}&\"\n",
    "    f\"outputsize={output_size}&\"\n",
    "    f\"datatype={data_type}&\"\n",
    "    f\"apikey={settings.alpha_api_key}\"\n",
    "      )\n",
    "\n",
    "print(\"url type:\", type(url))\n",
    "url[:170]"
   ]
  },
  {
   "cell_type": "code",
   "execution_count": 4,
   "id": "7f632cdd",
   "metadata": {},
   "outputs": [
    {
     "name": "stdout",
     "output_type": "stream",
     "text": [
      "response type: <class 'requests.models.Response'>\n"
     ]
    }
   ],
   "source": [
    "# get response from requests\n",
    "response = requests.get(url=url)\n",
    "\n",
    "print(\"response type:\", type(response))"
   ]
  },
  {
   "cell_type": "code",
   "execution_count": 5,
   "id": "707f6b09",
   "metadata": {},
   "outputs": [
    {
     "name": "stdout",
     "output_type": "stream",
     "text": [
      "code type: <class 'int'>\n"
     ]
    },
    {
     "data": {
      "text/plain": [
       "200"
      ]
     },
     "execution_count": 5,
     "metadata": {},
     "output_type": "execute_result"
    }
   ],
   "source": [
    "# get response status code\n",
    "response_code = response.status_code\n",
    "\n",
    "print(\"code type:\", type(response_code))\n",
    "response_code"
   ]
  },
  {
   "cell_type": "code",
   "execution_count": 6,
   "id": "181b3aef",
   "metadata": {},
   "outputs": [
    {
     "name": "stdout",
     "output_type": "stream",
     "text": [
      "df_google type: <class 'pandas.core.frame.DataFrame'>\n"
     ]
    },
    {
     "data": {
      "text/html": [
       "<div>\n",
       "<style scoped>\n",
       "    .dataframe tbody tr th:only-of-type {\n",
       "        vertical-align: middle;\n",
       "    }\n",
       "\n",
       "    .dataframe tbody tr th {\n",
       "        vertical-align: top;\n",
       "    }\n",
       "\n",
       "    .dataframe thead th {\n",
       "        text-align: right;\n",
       "    }\n",
       "</style>\n",
       "<table border=\"1\" class=\"dataframe\">\n",
       "  <thead>\n",
       "    <tr style=\"text-align: right;\">\n",
       "      <th></th>\n",
       "      <th>open</th>\n",
       "      <th>high</th>\n",
       "      <th>low</th>\n",
       "      <th>close</th>\n",
       "      <th>volume</th>\n",
       "    </tr>\n",
       "    <tr>\n",
       "      <th>date</th>\n",
       "      <th></th>\n",
       "      <th></th>\n",
       "      <th></th>\n",
       "      <th></th>\n",
       "      <th></th>\n",
       "    </tr>\n",
       "  </thead>\n",
       "  <tbody>\n",
       "    <tr>\n",
       "      <th>2023-07-28</th>\n",
       "      <td>130.78</td>\n",
       "      <td>133.740</td>\n",
       "      <td>130.57</td>\n",
       "      <td>132.58</td>\n",
       "      <td>36591158.0</td>\n",
       "    </tr>\n",
       "    <tr>\n",
       "      <th>2023-07-27</th>\n",
       "      <td>131.67</td>\n",
       "      <td>133.240</td>\n",
       "      <td>128.79</td>\n",
       "      <td>129.40</td>\n",
       "      <td>44952074.0</td>\n",
       "    </tr>\n",
       "    <tr>\n",
       "      <th>2023-07-26</th>\n",
       "      <td>130.07</td>\n",
       "      <td>130.980</td>\n",
       "      <td>128.32</td>\n",
       "      <td>129.27</td>\n",
       "      <td>61682093.0</td>\n",
       "    </tr>\n",
       "    <tr>\n",
       "      <th>2023-07-25</th>\n",
       "      <td>121.36</td>\n",
       "      <td>123.145</td>\n",
       "      <td>121.02</td>\n",
       "      <td>122.21</td>\n",
       "      <td>52509551.0</td>\n",
       "    </tr>\n",
       "    <tr>\n",
       "      <th>2023-07-24</th>\n",
       "      <td>121.66</td>\n",
       "      <td>123.000</td>\n",
       "      <td>120.98</td>\n",
       "      <td>121.53</td>\n",
       "      <td>29723667.0</td>\n",
       "    </tr>\n",
       "  </tbody>\n",
       "</table>\n",
       "</div>"
      ],
      "text/plain": [
       "              open     high     low   close      volume\n",
       "date                                                   \n",
       "2023-07-28  130.78  133.740  130.57  132.58  36591158.0\n",
       "2023-07-27  131.67  133.240  128.79  129.40  44952074.0\n",
       "2023-07-26  130.07  130.980  128.32  129.27  61682093.0\n",
       "2023-07-25  121.36  123.145  121.02  122.21  52509551.0\n",
       "2023-07-24  121.66  123.000  120.98  121.53  29723667.0"
      ]
     },
     "execution_count": 6,
     "metadata": {},
     "output_type": "execute_result"
    }
   ],
   "source": [
    "# read response dict into dataframe without module\n",
    "df_google = pd.DataFrame.from_dict(\n",
    "    response.json()['Time Series (Daily)'],\n",
    "    orient= 'index',\n",
    "    dtype= 'float'\n",
    ")\n",
    "\n",
    "df_google.index = pd.DatetimeIndex(df_google.index)\n",
    "df_google.index.name = 'date'\n",
    "\n",
    "df_google.columns = [c.split('. ')[1] for c in df_google.columns]\n",
    "\n",
    "print(\"df_google type:\", type(df_google))\n",
    "df_google.head()"
   ]
  },
  {
   "cell_type": "code",
   "execution_count": 7,
   "id": "c6a282dc",
   "metadata": {},
   "outputs": [
    {
     "data": {
      "text/html": [
       "<div>\n",
       "<style scoped>\n",
       "    .dataframe tbody tr th:only-of-type {\n",
       "        vertical-align: middle;\n",
       "    }\n",
       "\n",
       "    .dataframe tbody tr th {\n",
       "        vertical-align: top;\n",
       "    }\n",
       "\n",
       "    .dataframe thead th {\n",
       "        text-align: right;\n",
       "    }\n",
       "</style>\n",
       "<table border=\"1\" class=\"dataframe\">\n",
       "  <thead>\n",
       "    <tr style=\"text-align: right;\">\n",
       "      <th></th>\n",
       "      <th>open</th>\n",
       "      <th>high</th>\n",
       "      <th>low</th>\n",
       "      <th>close</th>\n",
       "      <th>volume</th>\n",
       "    </tr>\n",
       "    <tr>\n",
       "      <th>date</th>\n",
       "      <th></th>\n",
       "      <th></th>\n",
       "      <th></th>\n",
       "      <th></th>\n",
       "      <th></th>\n",
       "    </tr>\n",
       "  </thead>\n",
       "  <tbody>\n",
       "    <tr>\n",
       "      <th>2023-07-28</th>\n",
       "      <td>130.78</td>\n",
       "      <td>133.740</td>\n",
       "      <td>130.57</td>\n",
       "      <td>132.58</td>\n",
       "      <td>36591158.0</td>\n",
       "    </tr>\n",
       "    <tr>\n",
       "      <th>2023-07-27</th>\n",
       "      <td>131.67</td>\n",
       "      <td>133.240</td>\n",
       "      <td>128.79</td>\n",
       "      <td>129.40</td>\n",
       "      <td>44952074.0</td>\n",
       "    </tr>\n",
       "    <tr>\n",
       "      <th>2023-07-26</th>\n",
       "      <td>130.07</td>\n",
       "      <td>130.980</td>\n",
       "      <td>128.32</td>\n",
       "      <td>129.27</td>\n",
       "      <td>61682093.0</td>\n",
       "    </tr>\n",
       "    <tr>\n",
       "      <th>2023-07-25</th>\n",
       "      <td>121.36</td>\n",
       "      <td>123.145</td>\n",
       "      <td>121.02</td>\n",
       "      <td>122.21</td>\n",
       "      <td>52509551.0</td>\n",
       "    </tr>\n",
       "    <tr>\n",
       "      <th>2023-07-24</th>\n",
       "      <td>121.66</td>\n",
       "      <td>123.000</td>\n",
       "      <td>120.98</td>\n",
       "      <td>121.53</td>\n",
       "      <td>29723667.0</td>\n",
       "    </tr>\n",
       "  </tbody>\n",
       "</table>\n",
       "</div>"
      ],
      "text/plain": [
       "              open     high     low   close      volume\n",
       "date                                                   \n",
       "2023-07-28  130.78  133.740  130.57  132.58  36591158.0\n",
       "2023-07-27  131.67  133.240  128.79  129.40  44952074.0\n",
       "2023-07-26  130.07  130.980  128.32  129.27  61682093.0\n",
       "2023-07-25  121.36  123.145  121.02  122.21  52509551.0\n",
       "2023-07-24  121.66  123.000  120.98  121.53  29723667.0"
      ]
     },
     "execution_count": 7,
     "metadata": {},
     "output_type": "execute_result"
    }
   ],
   "source": [
    "# using our Alphavantage module\n",
    "# Instantiate model\n",
    "api = AlphaVantageAPI()\n",
    "df_google = api.get_daily(ticker=ticker)\n",
    "df_google.head()"
   ]
  },
  {
   "cell_type": "code",
   "execution_count": 8,
   "id": "4dd112ac",
   "metadata": {},
   "outputs": [
    {
     "data": {
      "text/plain": [
       "<sqlite3.Connection at 0x2649d0dab70>"
      ]
     },
     "execution_count": 8,
     "metadata": {},
     "output_type": "execute_result"
    }
   ],
   "source": [
    "# connect to sql database\n",
    "connection = sqlite3.connect(settings.db_name, check_same_thread=False)\n",
    "connection"
   ]
  },
  {
   "cell_type": "code",
   "execution_count": 9,
   "id": "ed9bed47",
   "metadata": {},
   "outputs": [],
   "source": [
    "# Insert `GOOGL` data into database using OUR MODULE\n",
    "# Instantiate repo\n",
    "repo = SQLRepository(connection=connection)\n",
    "\n",
    "response = repo.insert_table(table_name=ticker, records=df_google, if_exists='replace')"
   ]
  },
  {
   "cell_type": "code",
   "execution_count": 10,
   "id": "8f249701",
   "metadata": {},
   "outputs": [
    {
     "name": "stdout",
     "output_type": "stream",
     "text": [
      "df_google_read type: <class 'pandas.core.frame.DataFrame'>\n",
      "df_google_read shape: (3000, 5)\n"
     ]
    },
    {
     "data": {
      "text/html": [
       "<div>\n",
       "<style scoped>\n",
       "    .dataframe tbody tr th:only-of-type {\n",
       "        vertical-align: middle;\n",
       "    }\n",
       "\n",
       "    .dataframe tbody tr th {\n",
       "        vertical-align: top;\n",
       "    }\n",
       "\n",
       "    .dataframe thead th {\n",
       "        text-align: right;\n",
       "    }\n",
       "</style>\n",
       "<table border=\"1\" class=\"dataframe\">\n",
       "  <thead>\n",
       "    <tr style=\"text-align: right;\">\n",
       "      <th></th>\n",
       "      <th>open</th>\n",
       "      <th>high</th>\n",
       "      <th>low</th>\n",
       "      <th>close</th>\n",
       "      <th>volume</th>\n",
       "    </tr>\n",
       "    <tr>\n",
       "      <th>date</th>\n",
       "      <th></th>\n",
       "      <th></th>\n",
       "      <th></th>\n",
       "      <th></th>\n",
       "      <th></th>\n",
       "    </tr>\n",
       "  </thead>\n",
       "  <tbody>\n",
       "    <tr>\n",
       "      <th>2023-07-28</th>\n",
       "      <td>130.78</td>\n",
       "      <td>133.740</td>\n",
       "      <td>130.57</td>\n",
       "      <td>132.58</td>\n",
       "      <td>36591158.0</td>\n",
       "    </tr>\n",
       "    <tr>\n",
       "      <th>2023-07-27</th>\n",
       "      <td>131.67</td>\n",
       "      <td>133.240</td>\n",
       "      <td>128.79</td>\n",
       "      <td>129.40</td>\n",
       "      <td>44952074.0</td>\n",
       "    </tr>\n",
       "    <tr>\n",
       "      <th>2023-07-26</th>\n",
       "      <td>130.07</td>\n",
       "      <td>130.980</td>\n",
       "      <td>128.32</td>\n",
       "      <td>129.27</td>\n",
       "      <td>61682093.0</td>\n",
       "    </tr>\n",
       "    <tr>\n",
       "      <th>2023-07-25</th>\n",
       "      <td>121.36</td>\n",
       "      <td>123.145</td>\n",
       "      <td>121.02</td>\n",
       "      <td>122.21</td>\n",
       "      <td>52509551.0</td>\n",
       "    </tr>\n",
       "    <tr>\n",
       "      <th>2023-07-24</th>\n",
       "      <td>121.66</td>\n",
       "      <td>123.000</td>\n",
       "      <td>120.98</td>\n",
       "      <td>121.53</td>\n",
       "      <td>29723667.0</td>\n",
       "    </tr>\n",
       "  </tbody>\n",
       "</table>\n",
       "</div>"
      ],
      "text/plain": [
       "              open     high     low   close      volume\n",
       "date                                                   \n",
       "2023-07-28  130.78  133.740  130.57  132.58  36591158.0\n",
       "2023-07-27  131.67  133.240  128.79  129.40  44952074.0\n",
       "2023-07-26  130.07  130.980  128.32  129.27  61682093.0\n",
       "2023-07-25  121.36  123.145  121.02  122.21  52509551.0\n",
       "2023-07-24  121.66  123.000  120.98  121.53  29723667.0"
      ]
     },
     "execution_count": 10,
     "metadata": {},
     "output_type": "execute_result"
    }
   ],
   "source": [
    "# read data from database\n",
    "df_google_read = repo.read_table(table_name=ticker, limit=3000)\n",
    "\n",
    "print(\"df_google_read type:\", type(df_google_read))\n",
    "print(\"df_google_read shape:\", df_google_read.shape)\n",
    "df_google_read.head()"
   ]
  },
  {
   "cell_type": "code",
   "execution_count": 11,
   "id": "1d7a61ea",
   "metadata": {},
   "outputs": [
    {
     "name": "stdout",
     "output_type": "stream",
     "text": [
      "y_google type: <class 'pandas.core.series.Series'>\n",
      "y_google shape: (2999,)\n"
     ]
    },
    {
     "data": {
      "text/plain": [
       "date\n",
       "2011-08-26    1.311438\n",
       "2011-08-29    2.319402\n",
       "2011-08-30    0.300512\n",
       "2011-08-31    0.048086\n",
       "2011-09-01   -1.563886\n",
       "Name: return, dtype: float64"
      ]
     },
     "execution_count": 11,
     "metadata": {},
     "output_type": "execute_result"
    }
   ],
   "source": [
    "# create a daily returns column\n",
    "df_google_read.sort_index(ascending=True, inplace=True)\n",
    "df_google_read['return'] = df_google_read['close'].pct_change() * 100\n",
    "y_google = df_google_read['return'].dropna()\n",
    "\n",
    "print(\"y_google type:\", type(y_google))\n",
    "print(\"y_google shape:\", y_google.shape)\n",
    "y_google.head()"
   ]
  },
  {
   "cell_type": "code",
   "execution_count": 12,
   "id": "0c5834ea",
   "metadata": {},
   "outputs": [
    {
     "name": "stdout",
     "output_type": "stream",
     "text": [
      "google_daily_volatility type: <class 'float'>\n",
      "Google Daily Volatility: 2.597982826577894\n"
     ]
    }
   ],
   "source": [
    "google_daily_volatility = y_google.std()\n",
    "\n",
    "print(\"google_daily_volatility type:\", type(google_daily_volatility))\n",
    "print(\"Google Daily Volatility:\", google_daily_volatility)"
   ]
  },
  {
   "cell_type": "code",
   "execution_count": 13,
   "id": "fd92b0b3",
   "metadata": {},
   "outputs": [
    {
     "name": "stdout",
     "output_type": "stream",
     "text": [
      "google_annual_volatility type: <class 'numpy.float64'>\n",
      "Google Annual Volatility: 41.24169881725053\n"
     ]
    }
   ],
   "source": [
    "google_annual_volatility = google_daily_volatility * np.sqrt(252)\n",
    "\n",
    "print(\"google_annual_volatility type:\", type(google_annual_volatility))\n",
    "print(\"Google Annual Volatility:\", google_annual_volatility)"
   ]
  },
  {
   "cell_type": "code",
   "execution_count": 14,
   "id": "14f87f4a",
   "metadata": {},
   "outputs": [
    {
     "data": {
      "image/png": "[encoded data removed]",
      "text/plain": [
       "<Figure size 1080x432 with 1 Axes>"
      ]
     },
     "metadata": {
      "needs_background": "light"
     },
     "output_type": "display_data"
    }
   ],
   "source": [
    "# Create `fig` and `ax`\n",
    "fig, ax = plt.subplots(figsize=(15, 6))\n",
    "\n",
    "# Plot `y_google` on `ax`\n",
    "y_google.plot(ax=ax)\n",
    "\n",
    "# Add axis labels\n",
    "plt.xlabel(\"Date\")\n",
    "plt.ylabel(\"Returns\")\n",
    "\n",
    "# Add title\n",
    "plt.title(\"Time Series of Google Returns\");"
   ]
  },
  {
   "cell_type": "code",
   "execution_count": 15,
   "id": "f67dc5a0",
   "metadata": {},
   "outputs": [
    {
     "data": {
      "image/png": "[encoded data removed]",
      "text/plain": [
       "<Figure size 1080x432 with 1 Axes>"
      ]
     },
     "metadata": {
      "needs_background": "light"
     },
     "output_type": "display_data"
    }
   ],
   "source": [
    "# Create `fig` and `ax`\n",
    "fig, ax = plt.subplots(figsize=(15, 6))\n",
    "\n",
    "# Create ACF of squared returns\n",
    "plot_acf(y_google**2, ax=ax)\n",
    "\n",
    "# Add axis labels\n",
    "plt.xlabel(\"Lag [days]\")\n",
    "plt.ylabel(\"Correlation Coefficient\")\n",
    "\n",
    "\n",
    "# Add title\n",
    "plt.title(\"ACF of GOOGLE Squared Returns\");"
   ]
  },
  {
   "cell_type": "code",
   "execution_count": 16,
   "id": "fe3a06b2",
   "metadata": {},
   "outputs": [
    {
     "data": {
      "image/png": "[encoded data removed]",
      "text/plain": [
       "<Figure size 1080x432 with 1 Axes>"
      ]
     },
     "metadata": {
      "needs_background": "light"
     },
     "output_type": "display_data"
    }
   ],
   "source": [
    "# Create `fig` and `ax`\n",
    "fig, ax = plt.subplots(figsize=(15, 6))\n",
    "\n",
    "\n",
    "# Create PACF of squared returns\n",
    "plot_pacf(y_google**2, ax=ax)\n",
    "\n",
    "# Add axis labels\n",
    "plt.xlabel(\"Lag [days]\")\n",
    "plt.ylabel(\"Correlation Coefficient\")\n",
    "\n",
    "\n",
    "# Add title\n",
    "plt.title(\"PACF of GOOGLE Squared Returns\");"
   ]
  },
  {
   "cell_type": "code",
   "execution_count": 17,
   "id": "f76b72aa",
   "metadata": {},
   "outputs": [
    {
     "name": "stdout",
     "output_type": "stream",
     "text": [
      "y_google_train type: <class 'pandas.core.series.Series'>\n",
      "y_google_train shape: (2399,)\n"
     ]
    },
    {
     "data": {
      "text/plain": [
       "date\n",
       "2011-08-26    1.311438\n",
       "2011-08-29    2.319402\n",
       "2011-08-30    0.300512\n",
       "2011-08-31    0.048086\n",
       "2011-09-01   -1.563886\n",
       "Name: return, dtype: float64"
      ]
     },
     "execution_count": 17,
     "metadata": {},
     "output_type": "execute_result"
    }
   ],
   "source": [
    "# seperate training data\n",
    "cutoff_test = int(len(y_google) * 0.8)\n",
    "y_google_train = y_google.iloc[:cutoff_test]\n",
    "\n",
    "print(\"y_google_train type:\", type(y_google_train))\n",
    "print(\"y_google_train shape:\", y_google_train.shape)\n",
    "y_google_train.head()"
   ]
  },
  {
   "cell_type": "code",
   "execution_count": 18,
   "id": "5f4f484b",
   "metadata": {},
   "outputs": [
    {
     "name": "stdout",
     "output_type": "stream",
     "text": [
      "model type: <class 'arch.univariate.base.ARCHModelResult'>\n"
     ]
    },
    {
     "data": {
      "text/html": [
       "<table class=\"simpletable\">\n",
       "<caption>Constant Mean - GARCH Model Results</caption>\n",
       "<tr>\n",
       "  <th>Dep. Variable:</th>       <td>return</td>       <th>  R-squared:         </th>  <td>   0.000</td> \n",
       "</tr>\n",
       "<tr>\n",
       "  <th>Mean Model:</th>       <td>Constant Mean</td>   <th>  Adj. R-squared:    </th>  <td>   0.000</td> \n",
       "</tr>\n",
       "<tr>\n",
       "  <th>Vol Model:</th>            <td>GARCH</td>       <th>  Log-Likelihood:    </th> <td>  -4888.09</td>\n",
       "</tr>\n",
       "<tr>\n",
       "  <th>Distribution:</th>        <td>Normal</td>       <th>  AIC:               </th> <td>   9784.17</td>\n",
       "</tr>\n",
       "<tr>\n",
       "  <th>Method:</th>        <td>Maximum Likelihood</td> <th>  BIC:               </th> <td>   9807.31</td>\n",
       "</tr>\n",
       "<tr>\n",
       "  <th></th>                        <td></td>          <th>  No. Observations:  </th>    <td>2399</td>   \n",
       "</tr>\n",
       "<tr>\n",
       "  <th>Date:</th>           <td>Sat, Jul 29 2023</td>  <th>  Df Residuals:      </th>    <td>2398</td>   \n",
       "</tr>\n",
       "<tr>\n",
       "  <th>Time:</th>               <td>11:48:30</td>      <th>  Df Model:          </th>      <td>1</td>    \n",
       "</tr>\n",
       "</table>\n",
       "<table class=\"simpletable\">\n",
       "<caption>Mean Model</caption>\n",
       "<tr>\n",
       "   <td></td>     <th>coef</th>     <th>std err</th>      <th>t</th>       <th>P>|t|</th>    <th>95.0% Conf. Int.</th>  \n",
       "</tr>\n",
       "<tr>\n",
       "  <th>mu</th> <td>    0.1115</td> <td>4.078e-02</td> <td>    2.735</td> <td>6.242e-03</td> <td>[3.159e-02,  0.191]</td>\n",
       "</tr>\n",
       "</table>\n",
       "<table class=\"simpletable\">\n",
       "<caption>Volatility Model</caption>\n",
       "<tr>\n",
       "      <td></td>        <th>coef</th>     <th>std err</th>      <th>t</th>       <th>P>|t|</th>     <th>95.0% Conf. Int.</th>  \n",
       "</tr>\n",
       "<tr>\n",
       "  <th>omega</th>    <td>    0.5398</td> <td>    0.366</td> <td>    1.473</td> <td>    0.141</td>   <td>[ -0.178,  1.258]</td> \n",
       "</tr>\n",
       "<tr>\n",
       "  <th>alpha[1]</th> <td>    0.1360</td> <td>8.431e-02</td> <td>    1.613</td> <td>    0.107</td> <td>[-2.925e-02,  0.301]</td>\n",
       "</tr>\n",
       "<tr>\n",
       "  <th>beta[1]</th>  <td>    0.7591</td> <td>3.632e-02</td> <td>   20.903</td> <td>4.989e-97</td>   <td>[  0.688,  0.830]</td> \n",
       "</tr>\n",
       "</table><br/><br/>Covariance estimator: robust"
      ],
      "text/plain": [
       "<class 'statsmodels.iolib.summary.Summary'>\n",
       "\"\"\"\n",
       "                     Constant Mean - GARCH Model Results                      \n",
       "==============================================================================\n",
       "Dep. Variable:                 return   R-squared:                       0.000\n",
       "Mean Model:             Constant Mean   Adj. R-squared:                  0.000\n",
       "Vol Model:                      GARCH   Log-Likelihood:               -4888.09\n",
       "Distribution:                  Normal   AIC:                           9784.17\n",
       "Method:            Maximum Likelihood   BIC:                           9807.31\n",
       "                                        No. Observations:                 2399\n",
       "Date:                Sat, Jul 29 2023   Df Residuals:                     2398\n",
       "Time:                        11:48:30   Df Model:                            1\n",
       "                                Mean Model                                \n",
       "==========================================================================\n",
       "                 coef    std err          t      P>|t|    95.0% Conf. Int.\n",
       "--------------------------------------------------------------------------\n",
       "mu             0.1115  4.078e-02      2.735  6.242e-03 [3.159e-02,  0.191]\n",
       "                              Volatility Model                             \n",
       "===========================================================================\n",
       "                 coef    std err          t      P>|t|     95.0% Conf. Int.\n",
       "---------------------------------------------------------------------------\n",
       "omega          0.5398      0.366      1.473      0.141    [ -0.178,  1.258]\n",
       "alpha[1]       0.1360  8.431e-02      1.613      0.107 [-2.925e-02,  0.301]\n",
       "beta[1]        0.7591  3.632e-02     20.903  4.989e-97    [  0.688,  0.830]\n",
       "===========================================================================\n",
       "\n",
       "Covariance estimator: robust\n",
       "\"\"\""
      ]
     },
     "execution_count": 18,
     "metadata": {},
     "output_type": "execute_result"
    }
   ],
   "source": [
    "# Build and train model\n",
    "model = arch_model(\n",
    "    y_google_train,\n",
    "    p=1,\n",
    "    q=1,\n",
    "    rescale=False\n",
    ").fit(disp=0)\n",
    "\n",
    "print(\"model type:\", type(model))\n",
    "\n",
    "# Show model summary\n",
    "model.summary()"
   ]
  },
  {
   "cell_type": "code",
   "execution_count": 19,
   "id": "84fcf83a",
   "metadata": {},
   "outputs": [
    {
     "data": {
      "image/png": "[encoded data removed]",
      "text/plain": [
       "<Figure size 1080x432 with 1 Axes>"
      ]
     },
     "metadata": {
      "needs_background": "light"
     },
     "output_type": "display_data"
    }
   ],
   "source": [
    "# Create `fig` and `ax`\n",
    "fig, ax = plt.subplots(figsize=(15, 6))\n",
    "\n",
    "# Plot standardized residuals\n",
    "model.std_resid.plot(ax=ax)\n",
    "\n",
    "# Add axis labels\n",
    "plt.xlabel(\"Date\")\n",
    "plt.ylabel(\"Value\")\n",
    "\n",
    "\n",
    "# Add title\n",
    "plt.title(\"GOOGLE GARCH Model Standardized Residuals\");"
   ]
  },
  {
   "cell_type": "code",
   "execution_count": 20,
   "id": "23caab90",
   "metadata": {},
   "outputs": [
    {
     "name": "stdout",
     "output_type": "stream",
     "text": [
      "Iteration:      1,   Func. Count:      6,   Neg. LLF: 1902.9060299349435\n",
      "Iteration:      2,   Func. Count:     13,   Neg. LLF: 1232.5510782703982\n",
      "Iteration:      3,   Func. Count:     18,   Neg. LLF: 1234.73066864861\n",
      "Iteration:      4,   Func. Count:     24,   Neg. LLF: 1232.5071753033214\n",
      "Iteration:      5,   Func. Count:     29,   Neg. LLF: 1232.4739088626266\n",
      "Iteration:      6,   Func. Count:     34,   Neg. LLF: 1232.2616129870264\n",
      "Iteration:      7,   Func. Count:     39,   Neg. LLF: 2417.7593059548785\n",
      "Iteration:      8,   Func. Count:     45,   Neg. LLF: 1841.2921992962767\n",
      "Iteration:      9,   Func. Count:     52,   Neg. LLF: 1232.0771321480725\n",
      "Iteration:     10,   Func. Count:     58,   Neg. LLF: 1231.7276990874705\n",
      "Iteration:     11,   Func. Count:     63,   Neg. LLF: 1261.5920390672286\n",
      "Iteration:     12,   Func. Count:     69,   Neg. LLF: 1395.7511266940344\n",
      "Iteration:     13,   Func. Count:     75,   Neg. LLF: 1230.0484473999177\n",
      "Iteration:     14,   Func. Count:     80,   Neg. LLF: 1642.2434122445552\n",
      "Iteration:     15,   Func. Count:     87,   Neg. LLF: 361953702.4650262\n",
      "Iteration:     16,   Func. Count:     94,   Neg. LLF: 1224.9701257664394\n",
      "Iteration:     17,   Func. Count:     99,   Neg. LLF: 2359.8370405406113\n",
      "Iteration:     18,   Func. Count:    105,   Neg. LLF: 2360.9909092043777\n",
      "Iteration:     19,   Func. Count:    111,   Neg. LLF: 2440.55918754265\n",
      "Iteration:     20,   Func. Count:    117,   Neg. LLF: 2395.3221972988827\n",
      "Iteration:     21,   Func. Count:    123,   Neg. LLF: 2511.6616475401174\n",
      "Iteration:     22,   Func. Count:    129,   Neg. LLF: 2343.869779870543\n",
      "Iteration:     23,   Func. Count:    134,   Neg. LLF: 1218.9685279278108\n",
      "Optimization terminated successfully    (Exit mode 0)\n",
      "            Current function value: 1218.9685295448419\n",
      "            Iterations: 27\n",
      "            Function evaluations: 134\n",
      "            Gradient evaluations: 23\n"
     ]
    }
   ],
   "source": [
    "# Import `build_model` function\n",
    "from main import build_model\n",
    "\n",
    "# Build model using new `MTNOY` data\n",
    "model = build_model(ticker=\"GOOGL\", use_new_data=True)\n",
    "\n",
    "# Wrangle `GOOGL` returns\n",
    "model.wrangle_data(n_observations=400)\n",
    "\n",
    "# Fit GARCH(1,1) model to data\n",
    "model.fit(p=1, q=1)\n",
    "\n",
    "# Does model have AIC and BIC attributes?\n",
    "assert hasattr(model, \"aic\")\n",
    "assert hasattr(model, \"bic\")"
   ]
  },
  {
   "cell_type": "code",
   "execution_count": 21,
   "id": "206b658c",
   "metadata": {},
   "outputs": [
    {
     "name": "stdout",
     "output_type": "stream",
     "text": [
      "Iteration:      1,   Func. Count:      6,   Neg. LLF: 16420.657097939515\n",
      "Iteration:      2,   Func. Count:     18,   Neg. LLF: 12151.510302686886\n",
      "Iteration:      3,   Func. Count:     26,   Neg. LLF: 8420.453644030153\n",
      "Iteration:      4,   Func. Count:     33,   Neg. LLF: 5950.292193027956\n",
      "Iteration:      5,   Func. Count:     38,   Neg. LLF: 5927.538399254301\n",
      "Iteration:      6,   Func. Count:     43,   Neg. LLF: 5926.433710541662\n",
      "Iteration:      7,   Func. Count:     48,   Neg. LLF: 5926.153350446515\n",
      "Iteration:      8,   Func. Count:     53,   Neg. LLF: 5926.052632736682\n",
      "Iteration:      9,   Func. Count:     58,   Neg. LLF: 5926.059448767553\n",
      "Iteration:     10,   Func. Count:     63,   Neg. LLF: 2994069.007978852\n",
      "Iteration:     11,   Func. Count:     72,   Neg. LLF: 5938.305237327296\n",
      "Iteration:     12,   Func. Count:     80,   Neg. LLF: 5926.581812473796\n",
      "Iteration:     13,   Func. Count:     88,   Neg. LLF: 5926.0570062153265\n",
      "Iteration:     14,   Func. Count:     93,   Neg. LLF: 5968.254750046852\n",
      "Optimization terminated successfully    (Exit mode 0)\n",
      "            Current function value: 5926.057006224362\n",
      "            Iterations: 16\n",
      "            Function evaluations: 98\n",
      "            Gradient evaluations: 14\n"
     ]
    },
    {
     "data": {
      "text/plain": [
       "{'ticker': 'GOOGL',\n",
       " 'use_new_data': False,\n",
       " 'n_observations': 2500,\n",
       " 'p': 1,\n",
       " 'q': 1,\n",
       " 'success': True,\n",
       " 'message': \"Trained and saved 'models\\\\20230729_114847_GOOGL.pkl'. Metrics: AIC 11860.114012448725, BIC 11883.41019649215\"}"
      ]
     },
     "execution_count": 21,
     "metadata": {},
     "output_type": "execute_result"
    }
   ],
   "source": [
    "# Import `FitIn` class and `fit_model` function\n",
    "from main import FitIn, fit_model\n",
    "\n",
    "# Instantiate `FitIn` object\n",
    "request = FitIn(ticker=\"GOOGL\", use_new_data=False, n_observations=2500, p=1, q=1)\n",
    "\n",
    "# Build model and fit to data, following parameters in `request`\n",
    "fit_out = fit_model(request=request)\n",
    "\n",
    "# Inspect `fit_out`\n",
    "fit_out"
   ]
  },
  {
   "cell_type": "code",
   "execution_count": null,
   "id": "ebd6b68a",
   "metadata": {},
   "outputs": [],
   "source": [
    "# URL of `/fit` path\n",
    "url = \"http://127.0.0.1:8888/fit\"\n",
    "# Data to send to path\n",
    "json = {\n",
    "    'ticker': 'GOOGL',\n",
    "    'use_new_data': False,\n",
    "    'n_observations': 2000,\n",
    "    'p': 1,\n",
    "    'q': 1\n",
    "}\n",
    "# Response of post request\n",
    "response = requests.post(url=url, json=json)\n",
    "\n",
    "print(\"response type:\", type(response))\n",
    "print(\"response status code:\", response.status_code)"
   ]
  },
  {
   "cell_type": "code",
   "execution_count": null,
   "id": "b606f1a3",
   "metadata": {},
   "outputs": [],
   "source": [
    "# URL of `/predict` path\n",
    "url = \"http://localhost:8888/predict\"\n",
    "# Data to send to path\n",
    "json = {\n",
    "    'ticker': 'GOOGL',\n",
    "    'n_days': 5\n",
    "}\n",
    "# Response of post request\n",
    "response = requests.post(url=url, json=json)\n",
    "\n",
    "print(\"response type:\", type(response))\n",
    "print(\"response status code:\", response.status_code)"
   ]
  },
  {
   "cell_type": "code",
   "execution_count": null,
   "id": "b7f745ea",
   "metadata": {},
   "outputs": [],
   "source": [
    "submission_8521 = response.json()\n",
    "submission_8521"
   ]
  },
  {
   "cell_type": "code",
   "execution_count": 59,
   "id": "2ecf9ccb",
   "metadata": {},
   "outputs": [],
   "source": [
    "n_days = 5\n",
    "model = build_model(ticker= ticker, use_new_data = False)\n",
    "\n",
    "# Load stored model\n",
    "model.load()\n",
    "\n",
    "# Generate prediction\n",
    "prediction = model.predict_volatility(horizon= n_days)"
   ]
  },
  {
   "cell_type": "code",
   "execution_count": 60,
   "id": "f5e2416a",
   "metadata": {},
   "outputs": [
    {
     "data": {
      "text/plain": [
       "{'2023-07-31T00:00:00': 2.8192276838855364,\n",
       " '2023-08-01T00:00:00': 2.873683171812511,\n",
       " '2023-08-02T00:00:00': 2.9271257642427244,\n",
       " '2023-08-03T00:00:00': 2.9796099638697737,\n",
       " '2023-08-04T00:00:00': 3.0311855540784456}"
      ]
     },
     "execution_count": 60,
     "metadata": {},
     "output_type": "execute_result"
    }
   ],
   "source": [
    "#Display current prediction for next five days\n",
    "prediction"
   ]
  },
  {
   "cell_type": "code",
   "execution_count": null,
   "id": "d1b1defe",
   "metadata": {},
   "outputs": [],
   "source": []
  }
 ],
 "metadata": {
  "kernelspec": {
   "display_name": "Python 3 (ipykernel)",
   "language": "python",
   "name": "python3"
  },
  "language_info": {
   "codemirror_mode": {
    "name": "ipython",
    "version": 3
   },
   "file_extension": ".py",
   "mimetype": "text/x-python",
   "name": "python",
   "nbconvert_exporter": "python",
   "pygments_lexer": "ipython3",
   "version": "3.9.7"
  }
 },
 "nbformat": 4,
 "nbformat_minor": 5
}
